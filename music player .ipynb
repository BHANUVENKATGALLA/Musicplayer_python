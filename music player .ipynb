{
 "cells": [
  {
   "cell_type": "code",
   "execution_count": 1,
   "id": "cb9e9f5c",
   "metadata": {},
   "outputs": [
    {
     "name": "stdout",
     "output_type": "stream",
     "text": [
      "Requirement already satisfied: pygame in c:\\users\\hp\\anaconda3\\lib\\site-packages (2.5.1)\n",
      "Note: you may need to restart the kernel to use updated packages.\n"
     ]
    }
   ],
   "source": [
    "pip install pygame\n"
   ]
  },
  {
   "cell_type": "code",
   "execution_count": 1,
   "id": "d17d62e9",
   "metadata": {},
   "outputs": [
    {
     "name": "stdout",
     "output_type": "stream",
     "text": [
      "pygame 2.5.1 (SDL 2.28.2, Python 3.10.9)\n",
      "Hello from the pygame community. https://www.pygame.org/contribute.html\n",
      "\n",
      "Music Player Menu:\n",
      "1. Play Music\n",
      "2. Pause Music\n",
      "3. Resume Music\n",
      "4. Stop Music\n",
      "5. List Songs\n",
      "6. Exit\n",
      "Enter your choice: 1\n",
      "1. alarm.wav\n",
      "2. Ed-Sheeran-Shape-of-You.mp3\n",
      "3. John_Lennon_-_Imagine.mp3\n",
      "4. Luis_Fonsi_ft_Daddy_Yankee_-_Despacito.mp3\n",
      "Enter the number of the song you want to play: 2\n",
      "\n",
      "Music Player Menu:\n",
      "1. Play Music\n",
      "2. Pause Music\n",
      "3. Resume Music\n",
      "4. Stop Music\n",
      "5. List Songs\n",
      "6. Exit\n",
      "Enter your choice: 6\n"
     ]
    }
   ],
   "source": [
    "import pygame\n",
    "import os\n",
    "\n",
    "# Initialize pygame\n",
    "pygame.init()\n",
    "\n",
    "# Set the path to your music directory\n",
    "music_directory = \"C:\\music\"\n",
    "\n",
    "# Create a list of music files in the directory\n",
    "music_files = [file for file in os.listdir(music_directory) if file.endswith((\".mp3\", \".wav\"))]\n",
    "\n",
    "# Initialize the mixer for audio playback\n",
    "pygame.mixer.init()\n",
    "\n",
    "# Function to play music\n",
    "def play_music(music_file):\n",
    "    pygame.mixer.music.load(os.path.join(music_directory, music_file))\n",
    "    pygame.mixer.music.play()\n",
    "\n",
    "# Function to pause music\n",
    "def pause_music():\n",
    "    pygame.mixer.music.pause()\n",
    "\n",
    "# Function to resume music\n",
    "def resume_music():\n",
    "    pygame.mixer.music.unpause()\n",
    "\n",
    "# Function to stop music\n",
    "def stop_music():\n",
    "    pygame.mixer.music.stop()\n",
    "\n",
    "# Function to display the list of available songs\n",
    "def list_songs():\n",
    "    for i, music_file in enumerate(music_files):\n",
    "        print(f\"{i + 1}. {music_file}\")\n",
    "\n",
    "# Main loop\n",
    "while True:\n",
    "    print(\"\\nMusic Player Menu:\")\n",
    "    print(\"1. Play Music\")\n",
    "    print(\"2. Pause Music\")\n",
    "    print(\"3. Resume Music\")\n",
    "    print(\"4. Stop Music\")\n",
    "    print(\"5. List Songs\")\n",
    "    print(\"6. Exit\")\n",
    "\n",
    "    choice = input(\"Enter your choice: \")\n",
    "\n",
    "    if choice == \"1\":\n",
    "        list_songs()\n",
    "        song_choice = int(input(\"Enter the number of the song you want to play: \")) - 1\n",
    "        if 0 <= song_choice < len(music_files):\n",
    "            play_music(music_files[song_choice])\n",
    "        else:\n",
    "            print(\"Invalid song choice.\")\n",
    "\n",
    "    elif choice == \"2\":\n",
    "        pause_music()\n",
    "\n",
    "    elif choice == \"3\":\n",
    "        resume_music()\n",
    "\n",
    "    elif choice == \"4\":\n",
    "        stop_music()\n",
    "\n",
    "    elif choice == \"5\":\n",
    "        list_songs()\n",
    "\n",
    "    elif choice == \"6\":\n",
    "        pygame.quit()\n",
    "        break\n",
    "\n",
    "    else:\n",
    "        print(\"Invalid choice. Please select a valid option.\")\n"
   ]
  },
  {
   "cell_type": "code",
   "execution_count": null,
   "id": "62391b03",
   "metadata": {},
   "outputs": [],
   "source": []
  },
  {
   "cell_type": "code",
   "execution_count": null,
   "id": "82cbfca8",
   "metadata": {},
   "outputs": [],
   "source": []
  }
 ],
 "metadata": {
  "kernelspec": {
   "display_name": "Python 3 (ipykernel)",
   "language": "python",
   "name": "python3"
  },
  "language_info": {
   "codemirror_mode": {
    "name": "ipython",
    "version": 3
   },
   "file_extension": ".py",
   "mimetype": "text/x-python",
   "name": "python",
   "nbconvert_exporter": "python",
   "pygments_lexer": "ipython3",
   "version": "3.10.9"
  }
 },
 "nbformat": 4,
 "nbformat_minor": 5
}
